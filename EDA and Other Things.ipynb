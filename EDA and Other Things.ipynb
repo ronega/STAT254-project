{
 "cells": [
  {
   "cell_type": "code",
   "execution_count": null,
   "id": "10d5c2b7",
   "metadata": {},
   "outputs": [],
   "source": [
    "import numpy as np \n",
    "import pandas as pd \n",
    "import os\n",
    "import matplotlib.pyplot as plt\n",
    "import cv2"
   ]
  },
  {
   "cell_type": "code",
   "execution_count": null,
   "id": "f9de70d6",
   "metadata": {},
   "outputs": [],
   "source": [
    "TRAIN_PATH = 'data/full/train/'\n",
    "IGNORE = ['.DS_Store']\n",
    "\n",
    "train_images = []\n",
    "train_labels = []\n",
    "\n",
    "for label in os.listdir(TRAIN_PATH):\n",
    "    if label in IGNORE:\n",
    "        continue\n",
    "    full_path = f'{TRAIN_PATH}/{label}'\n",
    "\n",
    "    for filename in os.listdir(full_path):\n",
    "        img = cv2.imread(os.path.join(full_path, filename))\n",
    "        train_images.append(img)\n",
    "        train_labels.append(label)"
   ]
  },
  {
   "cell_type": "markdown",
   "id": "86d00d42",
   "metadata": {},
   "source": [
    "# Some EDA"
   ]
  },
  {
   "cell_type": "markdown",
   "id": "05eb9be5",
   "metadata": {},
   "source": [
    "## Image Examples"
   ]
  },
  {
   "cell_type": "code",
   "execution_count": null,
   "id": "96ed1264",
   "metadata": {},
   "outputs": [],
   "source": [
    "np.random.seed(9)\n",
    "a, b, c, d = np.round(np.random.uniform(0, len(train_images), 4))\n",
    "\n",
    "fig, axs = plt.subplots(1, 2, figsize=(10, 10))\n",
    "axs[0].imshow(np.flip(train_images[int(a)], axis=-1))\n",
    "axs[0].set_title(train_labels[int(a)])\n",
    "axs[1].imshow(np.flip(train_images[int(b)], axis=-1))\n",
    "axs[1].set_title(train_labels[int(b)])\n",
    "axs[0].set(xticklabels=[], yticklabels=[], xticks=[], yticks=[])\n",
    "axs[1].set(xticklabels=[], yticklabels=[], xticks=[], yticks=[])\n",
    "\n",
    "# axs[1,0].imshow(np.flip(train_images[int(c)], axis=-1))\n",
    "# axs[1,0].set_title(train_labels[int(c)])\n",
    "# axs[1,1].imshow(np.flip(train_images[int(d)], axis=-1))\n",
    "# axs[1,1].set_title(train_labels[int(d)]);\n",
    "\n",
    "\n",
    "fig.savefig('Example_of_images.png')"
   ]
  },
  {
   "cell_type": "markdown",
   "id": "b59fcdd9",
   "metadata": {},
   "source": [
    "## Filter Examples"
   ]
  },
  {
   "cell_type": "code",
   "execution_count": null,
   "id": "572ad624",
   "metadata": {},
   "outputs": [],
   "source": [
    "from PIL import Image\n",
    "from pathlib import Path\n",
    "import matplotlib.pyplot as plt\n",
    "import numpy as np\n",
    "\n",
    "import torch\n",
    "import torchvision.transforms as T\n",
    "\n",
    "\n",
    "plt.rcParams[\"savefig.bbox\"] = 'tight'\n",
    "orig_img = Image.open(Path('data/full/train/curling/') / '018.jpg')\n",
    "torch.manual_seed(0)\n",
    "\n",
    "\n",
    "def plot(imgs, with_orig=True, row_title=None, **imshow_kwargs):\n",
    "    if not isinstance(imgs[0], list):\n",
    "        imgs = [imgs]\n",
    "\n",
    "    num_rows = len(imgs)\n",
    "    num_cols = len(imgs[0]) + with_orig\n",
    "    fig, axs = plt.subplots(nrows=num_rows, ncols=num_cols, squeeze=False, figsize=(15, 15))\n",
    "    for row_idx, row in enumerate(imgs):\n",
    "        row = [orig_img] + row if with_orig else row\n",
    "        for col_idx, img in enumerate(row):\n",
    "            ax = axs[row_idx, col_idx]\n",
    "            ax.imshow(np.asarray(img), **imshow_kwargs)\n",
    "            ax.set(xticklabels=[], yticklabels=[], xticks=[], yticks=[])\n",
    "\n",
    "    if with_orig:\n",
    "        axs[0, 0].set(title='Original Image')\n",
    "        axs[0, 0].title.set_size(15)\n",
    "        axs[0, 1].set(title='HorizontalFlip')\n",
    "        axs[0, 1].title.set_size(15)\n",
    "        axs[0, 2].set(title='VerticalFlip')\n",
    "        axs[0, 2].title.set_size(15)\n",
    "        axs[0, 3].set(title='Equalize')\n",
    "        axs[0, 3].title.set_size(15)\n",
    "        axs[0, 4].set(title='Perspective')\n",
    "        axs[0, 4].title.set_size(15)\n",
    "        axs[0, 5].set(title='Autocontrast')\n",
    "        axs[0, 5].title.set_size(15)\n",
    "    if row_title is not None:\n",
    "        for row_idx in range(num_rows):\n",
    "            axs[row_idx, 0].set(ylabel=row_title[row_idx])\n",
    "\n",
    "    plt.tight_layout()\n",
    "    fig.savefig('Augmentation.png')"
   ]
  },
  {
   "cell_type": "code",
   "execution_count": null,
   "id": "d7cb5920",
   "metadata": {},
   "outputs": [],
   "source": [
    "eq = T.RandomEqualize(p=1)\n",
    "h_flip = T.RandomHorizontalFlip(p=1)\n",
    "v_flip = T.RandomVerticalFlip(p=1)\n",
    "pers = T.RandomPerspective(p=1, distortion_scale=0.4)\n",
    "contrast = T.RandomAutocontrast(p=1)\n",
    "\n",
    "all_filters = [h_flip, v_flip, eq, pers, contrast]\n",
    "\n",
    "images = [custom_filter(orig_img) for _, custom_filter in zip(range(6), all_filters)]\n",
    "plot(images, row_title=None)"
   ]
  },
  {
   "cell_type": "markdown",
   "id": "9c4fc8b3",
   "metadata": {},
   "source": [
    "## Training Visualization"
   ]
  },
  {
   "cell_type": "code",
   "execution_count": null,
   "id": "0242eb34",
   "metadata": {},
   "outputs": [],
   "source": [
    "data = pd.read_csv('remote_project/stat254/summary.csv', header=None)\n",
    "data.columns = ['date', 'name', 'training_time', 'accuracy']"
   ]
  },
  {
   "cell_type": "code",
   "execution_count": null,
   "id": "433a0b64",
   "metadata": {},
   "outputs": [],
   "source": [
    "import pandas as pd\n",
    "import matplotlib.pyplot as plt\n",
    "import seaborn as sns\n",
    "import glob\n",
    "import os\n",
    "\n",
    "def get_logs(path, cls):\n",
    "    all_files = glob.glob(os.path.join(path, cls))\n",
    "    frames = []\n",
    "    for filename in all_files:\n",
    "        df = pd.read_csv(filename, index_col=None, header=0)\n",
    "        #df['model'] = filename.split('/')[-2]\n",
    "        df['model'] = filename.split('/')[-2].split('_')[0]\n",
    "        frames.append(df)\n",
    "    return pd.concat(frames, axis=0, ignore_index=True)"
   ]
  },
  {
   "cell_type": "code",
   "execution_count": null,
   "id": "0ee2a9c6",
   "metadata": {},
   "outputs": [],
   "source": [
    "path = 'remote_project/stat254/weights/'\n",
    "cls = '*_native/*.csv'\n",
    "\n",
    "data_native = get_logs(path, cls)\n",
    "\n",
    "path = 'remote_project/stat254/weights/'\n",
    "cls = '*_soft_aug/*.csv'\n",
    "\n",
    "data_soft = get_logs(path, cls)\n",
    "\n",
    "path = 'remote_project/stat254/weights/'\n",
    "cls = '*_hard_aug/*.csv'\n",
    "\n",
    "data_hard = get_logs(path, cls)"
   ]
  },
  {
   "cell_type": "code",
   "execution_count": null,
   "id": "796f64e3",
   "metadata": {},
   "outputs": [],
   "source": [
    "fig, ax = plt.subplots(1, 3, figsize=(15,5))\n",
    "\n",
    "sns.lineplot(data=data_native, \n",
    "             x='epoch',\n",
    "             y='valid_loss',\n",
    "             hue='model',\n",
    "             ax=ax[0])\n",
    "\n",
    "sns.lineplot(data=data_soft, \n",
    "             x='epoch',\n",
    "             y='valid_loss',\n",
    "             hue='model',\n",
    "             ax=ax[1])\n",
    "\n",
    "sns.lineplot(data=data_hard, \n",
    "             x='epoch',\n",
    "             y='valid_loss',\n",
    "             hue='model',\n",
    "             ax=ax[2])\n",
    "\n",
    "ax[0].set_title('No augmentation')\n",
    "ax[1].set_title('Two filters')\n",
    "ax[2].set_title('Multiple filters augmentation');"
   ]
  }
 ],
 "metadata": {
  "kernelspec": {
   "display_name": "Python 3 (ipykernel)",
   "language": "python",
   "name": "python3"
  },
  "language_info": {
   "codemirror_mode": {
    "name": "ipython",
    "version": 3
   },
   "file_extension": ".py",
   "mimetype": "text/x-python",
   "name": "python",
   "nbconvert_exporter": "python",
   "pygments_lexer": "ipython3",
   "version": "3.9.16"
  }
 },
 "nbformat": 4,
 "nbformat_minor": 5
}
